{
  "nbformat": 4,
  "nbformat_minor": 0,
  "metadata": {
    "colab": {
      "provenance": [],

      "authorship_tag": "ABX9TyNSP/vRjomM5ZjZLISfZPR5",

      "include_colab_link": true
    },
    "kernelspec": {
      "name": "python3",
      "display_name": "Python 3"
    },
    "language_info": {
      "name": "python"
    }
  },
  "cells": [
    {
      "cell_type": "markdown",
      "metadata": {
        "id": "view-in-github",
        "colab_type": "text"
      },
      "source": [

        "<a href=\"https://colab.research.google.com/github/earo12/christmas-giveaway/blob/dev-branch/Sorteo_Navidad.ipynb\" target=\"_parent\"><img src=\"https://colab.research.google.com/assets/colab-badge.svg\" alt=\"Open In Colab\"/></a>"

      ]
    },
    {
      "cell_type": "code",
      "execution_count": null,
      "metadata": {
        "id": "0-K7ijLHc1N3"
      },
      "outputs": [],
      "source": [
        "# Sólo necesitamos de la librería random, para hacer el sorteo más justo\n",
        "import random"
      ]
    },
    {
      "cell_type": "code",
      "source": [
        "# Creo una función que asigna los pares de personas\n",
        "# Toma de argumento la lista de parejas\n",
        "\n",
        "def asignar_parejas(personas):\n",
        "\n",
        "    # Primero mezclamos aleatorio la lista de personas participantes\n",
        "    # shuffle lo que hace es que toma los valores de una lista y los \"reordena\" como en una ruleta\n",
        "    random.shuffle(personas)\n",
        "\n",
        "    #Creamos una lista de parejas que tomará los nombres de las personas\n",
        "    parejas = []\n",
        "    for i in range(len(personas)):\n",
        "        pareja = (personas[i], personas[(i + 1) % len(personas)])\n",
        "        parejas.append(pareja)\n",
        "\n",
        "    return parejas"
      ],
      "metadata": {
        "id": "YS4-ZSIij0AZ"
      },
      "execution_count": null,
      "outputs": []
    },
    {
      "cell_type": "code",
      "source": [
        "# Lista de personas en el sorteo\n",
     "participantes = [\"persona1\", \"persona2\", \"persona3\", \"persona4\", \"persona5\", \"persona6\", \"persona7\", \"persona8\", \"persona9\", \"persona10\"]\n",

        "\n",
        "# REsultados del sorteo:\n",
        "resultados = asignar_parejas(participantes)\n",
        "\n",
        "# Y finalmente  los imprimimos en pantalla con un for:\n",
        "for persona1, persona2 in resultados:\n",
        "    print(f\"{persona1} dará un regalo a {persona2}\")\n"
      ],
      "metadata": {
        "colab": {
          "base_uri": "https://localhost:8080/"
        },
        "id": "_-7x8llJc5oJ",

        "outputId": "9680d2e7-5f68-476a-d2db-67706586cc37"
      },
      "execution_count": 6,

      "outputs": [
        {
          "output_type": "stream",
          "name": "stdout",
          "text": [

            "persona5 dará un regalo a persona6\n",
            "persona6 dará un regalo a persona4\n",
            "persona4 dará un regalo a persona1\n",
            "persona1 dará un regalo a persona2\n",
            "persona2 dará un regalo a persona3\n",
            "persona3 dará un regalo a persona8\n",
            "persona8 dará un regalo a persona9\n",
            "persona9 dará un regalo a persona7\n",
            "persona7 dará un regalo a persona10\n",
            "persona10 dará un regalo a persona5\n"
          ]
        }
      ]

    }
  ]
}